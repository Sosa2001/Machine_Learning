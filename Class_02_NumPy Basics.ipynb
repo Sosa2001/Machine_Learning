{
 "cells": [
  {
   "cell_type": "code",
   "execution_count": 1,
   "id": "669eb6f6-7593-43f7-b266-65894cb8243a",
   "metadata": {},
   "outputs": [
    {
     "name": "stdout",
     "output_type": "stream",
     "text": [
      "[1, 2, 3]\n",
      "<class 'list'>\n"
     ]
    }
   ],
   "source": [
    "my_list = [1, 2, 3]\n",
    "print(my_list)\n",
    "print(type(my_list))"
   ]
  },
  {
   "cell_type": "code",
   "execution_count": 2,
   "id": "430ac799-5c1d-4e81-b0f7-af4c307dc0e5",
   "metadata": {},
   "outputs": [],
   "source": [
    "import numpy as np"
   ]
  },
  {
   "cell_type": "code",
   "execution_count": 3,
   "id": "7a9a95a8-2297-4d5e-b400-c2655c299f59",
   "metadata": {},
   "outputs": [
    {
     "name": "stdout",
     "output_type": "stream",
     "text": [
      "[1 2 3]\n",
      "<class 'numpy.ndarray'>\n"
     ]
    }
   ],
   "source": [
    "array = np.array(my_list)\n",
    "print(array)\n",
    "print(type(array))"
   ]
  },
  {
   "cell_type": "code",
   "execution_count": 4,
   "id": "39de94ac-c692-4e55-bcb4-971668086052",
   "metadata": {},
   "outputs": [
    {
     "data": {
      "text/plain": [
       "3"
      ]
     },
     "execution_count": 4,
     "metadata": {},
     "output_type": "execute_result"
    }
   ],
   "source": [
    "len(array)"
   ]
  },
  {
   "cell_type": "code",
   "execution_count": 5,
   "id": "da1d8566-8833-4425-9708-171d51f9221b",
   "metadata": {},
   "outputs": [
    {
     "data": {
      "text/plain": [
       "numpy.int32"
      ]
     },
     "execution_count": 5,
     "metadata": {},
     "output_type": "execute_result"
    }
   ],
   "source": [
    "type(array[0])"
   ]
  },
  {
   "cell_type": "code",
   "execution_count": 6,
   "id": "4da25e67-aad0-46f5-8f5a-24a916ce44fe",
   "metadata": {},
   "outputs": [
    {
     "data": {
      "text/plain": [
       "dtype('int32')"
      ]
     },
     "execution_count": 6,
     "metadata": {},
     "output_type": "execute_result"
    }
   ],
   "source": [
    "array.dtype"
   ]
  },
  {
   "cell_type": "code",
   "execution_count": 7,
   "id": "44952926-8634-47e5-86c3-fdc63b0eabb1",
   "metadata": {},
   "outputs": [
    {
     "data": {
      "text/plain": [
       "array([1. , 0.5, 1. ])"
      ]
     },
     "execution_count": 7,
     "metadata": {},
     "output_type": "execute_result"
    }
   ],
   "source": [
    "np.array([1, 0.5, True])"
   ]
  },
  {
   "cell_type": "code",
   "execution_count": 8,
   "id": "1d451803-4de8-4f66-aa34-250b3affc36f",
   "metadata": {},
   "outputs": [
    {
     "data": {
      "text/plain": [
       "3"
      ]
     },
     "execution_count": 8,
     "metadata": {},
     "output_type": "execute_result"
    }
   ],
   "source": [
    "array.size"
   ]
  },
  {
   "cell_type": "code",
   "execution_count": 9,
   "id": "5b09b903-b6b3-401b-aff4-4b73bfb123df",
   "metadata": {},
   "outputs": [
    {
     "data": {
      "text/plain": [
       "[[1, 2, 3], [4, 5, 6], [7, 8, 9]]"
      ]
     },
     "execution_count": 9,
     "metadata": {},
     "output_type": "execute_result"
    }
   ],
   "source": [
    "my_list_2 = [[1, 2, 3], [4, 5, 6], [7, 8, 9]]\n",
    "my_list_2"
   ]
  },
  {
   "cell_type": "code",
   "execution_count": 10,
   "id": "b95977b4-16cd-4055-b92b-8a917af970ca",
   "metadata": {},
   "outputs": [
    {
     "data": {
      "text/plain": [
       "5"
      ]
     },
     "execution_count": 10,
     "metadata": {},
     "output_type": "execute_result"
    }
   ],
   "source": [
    "my_list_2[1][1]"
   ]
  },
  {
   "cell_type": "code",
   "execution_count": 11,
   "id": "9a1acb1b-1be3-49d5-ad13-44e6c3da67e8",
   "metadata": {},
   "outputs": [
    {
     "name": "stdout",
     "output_type": "stream",
     "text": [
      "[[1 2 3]\n",
      " [4 5 6]\n",
      " [7 8 9]]\n",
      "<class 'numpy.ndarray'>\n"
     ]
    }
   ],
   "source": [
    "matrix = np.array(my_list_2)\n",
    "print(matrix)\n",
    "print(type(matrix))"
   ]
  },
  {
   "cell_type": "code",
   "execution_count": 12,
   "id": "6ff59592-508b-4bb2-9b73-5351515d200e",
   "metadata": {},
   "outputs": [
    {
     "data": {
      "text/plain": [
       "dtype('int32')"
      ]
     },
     "execution_count": 12,
     "metadata": {},
     "output_type": "execute_result"
    }
   ],
   "source": [
    "matrix.dtype"
   ]
  },
  {
   "cell_type": "code",
   "execution_count": 13,
   "id": "56c1afc4-0f87-43ad-99e9-ed82ce5df1b9",
   "metadata": {},
   "outputs": [
    {
     "data": {
      "text/plain": [
       "5"
      ]
     },
     "execution_count": 13,
     "metadata": {},
     "output_type": "execute_result"
    }
   ],
   "source": [
    "matrix[1][1]"
   ]
  },
  {
   "cell_type": "code",
   "execution_count": 14,
   "id": "c805a599-f711-4525-88b4-e6e81c096593",
   "metadata": {},
   "outputs": [
    {
     "data": {
      "text/plain": [
       "5"
      ]
     },
     "execution_count": 14,
     "metadata": {},
     "output_type": "execute_result"
    }
   ],
   "source": [
    "matrix [1, 1]"
   ]
  },
  {
   "cell_type": "code",
   "execution_count": 15,
   "id": "4e93a6d8-0283-4a95-97c6-fbf1e3c3909e",
   "metadata": {},
   "outputs": [
    {
     "data": {
      "text/plain": [
       "9"
      ]
     },
     "execution_count": 15,
     "metadata": {},
     "output_type": "execute_result"
    }
   ],
   "source": [
    "matrix.size"
   ]
  },
  {
   "cell_type": "code",
   "execution_count": 16,
   "id": "83927582-fc1d-4be0-8e0d-a2e71e6564b3",
   "metadata": {},
   "outputs": [
    {
     "data": {
      "text/plain": [
       "(3, 3)"
      ]
     },
     "execution_count": 16,
     "metadata": {},
     "output_type": "execute_result"
    }
   ],
   "source": [
    "matrix.shape"
   ]
  },
  {
   "cell_type": "code",
   "execution_count": 17,
   "id": "ef2f3fa0-8b6b-4bd8-9c7c-bc36ee99def9",
   "metadata": {},
   "outputs": [
    {
     "data": {
      "text/plain": [
       "(3,)"
      ]
     },
     "execution_count": 17,
     "metadata": {},
     "output_type": "execute_result"
    }
   ],
   "source": [
    "array.shape"
   ]
  },
  {
   "cell_type": "code",
   "execution_count": 18,
   "id": "127bfc72-2b71-4008-8630-24e8064fb1cb",
   "metadata": {},
   "outputs": [
    {
     "data": {
      "text/plain": [
       "array([0, 1, 2, 3, 4, 5, 6, 7, 8, 9])"
      ]
     },
     "execution_count": 18,
     "metadata": {},
     "output_type": "execute_result"
    }
   ],
   "source": [
    "np.arange(10)"
   ]
  },
  {
   "cell_type": "code",
   "execution_count": 19,
   "id": "3c1e139f-2e2b-4f17-b221-1dc97476220a",
   "metadata": {},
   "outputs": [
    {
     "data": {
      "text/plain": [
       "array([5, 6, 7, 8, 9])"
      ]
     },
     "execution_count": 19,
     "metadata": {},
     "output_type": "execute_result"
    }
   ],
   "source": [
    "np.arange(5,10)"
   ]
  },
  {
   "cell_type": "code",
   "execution_count": 20,
   "id": "fb4fb83c-eaa8-415d-ad01-b64053b3f2ff",
   "metadata": {},
   "outputs": [
    {
     "data": {
      "text/plain": [
       "array([5, 7, 9])"
      ]
     },
     "execution_count": 20,
     "metadata": {},
     "output_type": "execute_result"
    }
   ],
   "source": [
    "np.arange(5, 10, 2)"
   ]
  },
  {
   "cell_type": "code",
   "execution_count": 21,
   "id": "f7992077-445c-4953-b262-11a36cade8d6",
   "metadata": {},
   "outputs": [
    {
     "data": {
      "text/plain": [
       "array([5. , 5.5, 6. , 6.5, 7. , 7.5, 8. , 8.5, 9. , 9.5])"
      ]
     },
     "execution_count": 21,
     "metadata": {},
     "output_type": "execute_result"
    }
   ],
   "source": [
    "np.arange(5, 10, 0.5)"
   ]
  },
  {
   "cell_type": "code",
   "execution_count": 22,
   "id": "7d09080e-bfb2-4745-85a5-939a0e4e6f29",
   "metadata": {},
   "outputs": [
    {
     "data": {
      "text/plain": [
       "array([0., 0., 0., 0., 0., 0., 0., 0., 0., 0.])"
      ]
     },
     "execution_count": 22,
     "metadata": {},
     "output_type": "execute_result"
    }
   ],
   "source": [
    "np.zeros(10)"
   ]
  },
  {
   "cell_type": "code",
   "execution_count": 23,
   "id": "0a7e9e31-d606-4324-989f-f5dee938cf4c",
   "metadata": {},
   "outputs": [
    {
     "data": {
      "text/plain": [
       "array([[0., 0., 0., 0., 0., 0., 0., 0., 0., 0.],\n",
       "       [0., 0., 0., 0., 0., 0., 0., 0., 0., 0.],\n",
       "       [0., 0., 0., 0., 0., 0., 0., 0., 0., 0.],\n",
       "       [0., 0., 0., 0., 0., 0., 0., 0., 0., 0.],\n",
       "       [0., 0., 0., 0., 0., 0., 0., 0., 0., 0.],\n",
       "       [0., 0., 0., 0., 0., 0., 0., 0., 0., 0.],\n",
       "       [0., 0., 0., 0., 0., 0., 0., 0., 0., 0.],\n",
       "       [0., 0., 0., 0., 0., 0., 0., 0., 0., 0.],\n",
       "       [0., 0., 0., 0., 0., 0., 0., 0., 0., 0.],\n",
       "       [0., 0., 0., 0., 0., 0., 0., 0., 0., 0.]])"
      ]
     },
     "execution_count": 23,
     "metadata": {},
     "output_type": "execute_result"
    }
   ],
   "source": [
    "np.zeros((10,10))"
   ]
  },
  {
   "cell_type": "code",
   "execution_count": 24,
   "id": "2117b348-774d-4481-94ff-4b3ac662ca0a",
   "metadata": {},
   "outputs": [
    {
     "data": {
      "text/plain": [
       "array([[[0., 0., 0., 0., 0.],\n",
       "        [0., 0., 0., 0., 0.],\n",
       "        [0., 0., 0., 0., 0.],\n",
       "        [0., 0., 0., 0., 0.],\n",
       "        [0., 0., 0., 0., 0.]],\n",
       "\n",
       "       [[0., 0., 0., 0., 0.],\n",
       "        [0., 0., 0., 0., 0.],\n",
       "        [0., 0., 0., 0., 0.],\n",
       "        [0., 0., 0., 0., 0.],\n",
       "        [0., 0., 0., 0., 0.]],\n",
       "\n",
       "       [[0., 0., 0., 0., 0.],\n",
       "        [0., 0., 0., 0., 0.],\n",
       "        [0., 0., 0., 0., 0.],\n",
       "        [0., 0., 0., 0., 0.],\n",
       "        [0., 0., 0., 0., 0.]]])"
      ]
     },
     "execution_count": 24,
     "metadata": {},
     "output_type": "execute_result"
    }
   ],
   "source": [
    "np.zeros((3, 5, 5))"
   ]
  },
  {
   "cell_type": "code",
   "execution_count": 25,
   "id": "e413143d-c1ce-4fe7-860e-97f39fefed0d",
   "metadata": {},
   "outputs": [
    {
     "data": {
      "text/plain": [
       "(3, 5, 5)"
      ]
     },
     "execution_count": 25,
     "metadata": {},
     "output_type": "execute_result"
    }
   ],
   "source": [
    "np.zeros((3,5,5)).shape"
   ]
  },
  {
   "cell_type": "code",
   "execution_count": 26,
   "id": "07195f9f-eb22-4594-bb56-5c0ae62d41cb",
   "metadata": {},
   "outputs": [
    {
     "data": {
      "text/plain": [
       "array([1., 1., 1., 1., 1.])"
      ]
     },
     "execution_count": 26,
     "metadata": {},
     "output_type": "execute_result"
    }
   ],
   "source": [
    "np.ones(5)"
   ]
  },
  {
   "cell_type": "code",
   "execution_count": 27,
   "id": "badce118-1845-4d7e-8386-895cae59f143",
   "metadata": {},
   "outputs": [
    {
     "data": {
      "text/plain": [
       "array([[1., 1., 1., 1., 1.],\n",
       "       [1., 1., 1., 1., 1.],\n",
       "       [1., 1., 1., 1., 1.],\n",
       "       [1., 1., 1., 1., 1.],\n",
       "       [1., 1., 1., 1., 1.]])"
      ]
     },
     "execution_count": 27,
     "metadata": {},
     "output_type": "execute_result"
    }
   ],
   "source": [
    "np.ones((5,5))"
   ]
  },
  {
   "cell_type": "code",
   "execution_count": 28,
   "id": "a69066a9-9af1-4493-b97a-4409a2797413",
   "metadata": {},
   "outputs": [
    {
     "data": {
      "text/plain": [
       "array([[1., 0., 0., 0., 0.],\n",
       "       [0., 1., 0., 0., 0.],\n",
       "       [0., 0., 1., 0., 0.],\n",
       "       [0., 0., 0., 1., 0.],\n",
       "       [0., 0., 0., 0., 1.]])"
      ]
     },
     "execution_count": 28,
     "metadata": {},
     "output_type": "execute_result"
    }
   ],
   "source": [
    "np.eye(5)"
   ]
  },
  {
   "cell_type": "code",
   "execution_count": 29,
   "id": "dd80fdbd-0d50-43b2-9e05-1c24bb44615d",
   "metadata": {},
   "outputs": [
    {
     "data": {
      "text/plain": [
       "array([0. , 0.5, 1. , 1.5, 2. , 2.5, 3. , 3.5, 4. , 4.5, 5. ])"
      ]
     },
     "execution_count": 29,
     "metadata": {},
     "output_type": "execute_result"
    }
   ],
   "source": [
    "np.linspace(0, 5, 11)"
   ]
  },
  {
   "cell_type": "code",
   "execution_count": 30,
   "id": "8413f119-3652-49ba-9b34-9d6d3d82d6a2",
   "metadata": {},
   "outputs": [
    {
     "data": {
      "text/plain": [
       "array([5.35956934e-01, 9.67143312e-01, 9.40763522e-04, 9.40217705e-02,\n",
       "       6.28846467e-01])"
      ]
     },
     "execution_count": 30,
     "metadata": {},
     "output_type": "execute_result"
    }
   ],
   "source": [
    "np.random.rand(5)"
   ]
  },
  {
   "cell_type": "code",
   "execution_count": 31,
   "id": "b37c60f4-4bee-4590-9634-a50e3e6ac79d",
   "metadata": {},
   "outputs": [
    {
     "data": {
      "text/plain": [
       "array([[0.56155431, 0.63297321, 0.83060138],\n",
       "       [0.00355112, 0.34715824, 0.26048196],\n",
       "       [0.46373962, 0.5497788 , 0.64880809],\n",
       "       [0.910446  , 0.1441483 , 0.5650916 ],\n",
       "       [0.79930605, 0.58480536, 0.94010013]])"
      ]
     },
     "execution_count": 31,
     "metadata": {},
     "output_type": "execute_result"
    }
   ],
   "source": [
    "np.random.rand(5,3)"
   ]
  },
  {
   "cell_type": "code",
   "execution_count": 32,
   "id": "84f8c556-1e5d-48b5-8cdb-f3a241317ef9",
   "metadata": {},
   "outputs": [],
   "source": [
    "import matplotlib.pyplot as plt"
   ]
  },
  {
   "cell_type": "code",
   "execution_count": 33,
   "id": "491368da-8b7c-4376-8175-44f1d62c6b8a",
   "metadata": {},
   "outputs": [
    {
     "data": {
      "text/plain": [
       "<function matplotlib.pyplot.show(close=None, block=None)>"
      ]
     },
     "execution_count": 33,
     "metadata": {},
     "output_type": "execute_result"
    },
    {
     "data": {
      "image/png": "[encoded data removed]",
      "text/plain": [
       "<Figure size 640x480 with 1 Axes>"
      ]
     },
     "metadata": {},
     "output_type": "display_data"
    }
   ],
   "source": [
    "data = np.random.rand(50000)\n",
    "plt.hist(data, bins=10)\n",
    "plt.show"
   ]
  },
  {
   "cell_type": "code",
   "execution_count": 34,
   "id": "6dbf465a-d428-4bf8-bd17-199521973fc8",
   "metadata": {},
   "outputs": [
    {
     "data": {
      "text/plain": [
       "<function matplotlib.pyplot.show(close=None, block=None)>"
      ]
     },
     "execution_count": 34,
     "metadata": {},
     "output_type": "execute_result"
    },
    {
     "data": {
      "image/png": "[encoded data removed]",
      "text/plain": [
       "<Figure size 640x480 with 1 Axes>"
      ]
     },
     "metadata": {},
     "output_type": "display_data"
    }
   ],
   "source": [
    "data = np.random.randn(50000)\n",
    "plt.hist(data, bins=100)\n",
    "plt.show"
   ]
  },
  {
   "cell_type": "code",
   "execution_count": 35,
   "id": "118afed5-f37d-405c-a11f-08673c2542de",
   "metadata": {},
   "outputs": [
    {
     "data": {
      "text/plain": [
       "<function matplotlib.pyplot.show(close=None, block=None)>"
      ]
     },
     "execution_count": 35,
     "metadata": {},
     "output_type": "execute_result"
    },
    {
     "data": {
      "image/png": "[encoded data removed]",
      "text/plain": [
       "<Figure size 640x480 with 1 Axes>"
      ]
     },
     "metadata": {},
     "output_type": "display_data"
    }
   ],
   "source": [
    "data = np.random.randint(100, size = 500)\n",
    "plt.hist(data, bins=100)\n",
    "plt.show"
   ]
  },
  {
   "cell_type": "code",
   "execution_count": 36,
   "id": "840d8071-616b-4807-8de0-1c5569b72f12",
   "metadata": {},
   "outputs": [
    {
     "data": {
      "text/plain": [
       "array([ 0,  1,  2,  3,  4,  5,  6,  7,  8,  9, 10, 11, 12, 13, 14, 15, 16,\n",
       "       17, 18, 19, 20, 21, 22, 23])"
      ]
     },
     "execution_count": 36,
     "metadata": {},
     "output_type": "execute_result"
    }
   ],
   "source": [
    "array = np.arange(0, 24)\n",
    "array"
   ]
  },
  {
   "cell_type": "code",
   "execution_count": 37,
   "id": "e99ecb73-182d-421b-8409-748282e76a3c",
   "metadata": {},
   "outputs": [
    {
     "data": {
      "text/plain": [
       "(24,)"
      ]
     },
     "execution_count": 37,
     "metadata": {},
     "output_type": "execute_result"
    }
   ],
   "source": [
    "array.shape"
   ]
  },
  {
   "cell_type": "code",
   "execution_count": 38,
   "id": "e69a46d0-e2cb-467c-bb7b-3044fa623bc6",
   "metadata": {},
   "outputs": [
    {
     "data": {
      "text/plain": [
       "array([[ 0,  1,  2,  3,  4,  5,  6,  7],\n",
       "       [ 8,  9, 10, 11, 12, 13, 14, 15],\n",
       "       [16, 17, 18, 19, 20, 21, 22, 23]])"
      ]
     },
     "execution_count": 38,
     "metadata": {},
     "output_type": "execute_result"
    }
   ],
   "source": [
    "array = array.reshape(3, 8)\n",
    "array"
   ]
  },
  {
   "cell_type": "code",
   "execution_count": 39,
   "id": "d4ea598d-0021-4ef4-906c-ce4b5a8d916d",
   "metadata": {},
   "outputs": [
    {
     "data": {
      "text/plain": [
       "(3, 8)"
      ]
     },
     "execution_count": 39,
     "metadata": {},
     "output_type": "execute_result"
    }
   ],
   "source": [
    "array.shape"
   ]
  },
  {
   "cell_type": "code",
   "execution_count": 40,
   "id": "1caa630b-d3a0-4a69-ba07-ac77199d6274",
   "metadata": {},
   "outputs": [
    {
     "data": {
      "text/plain": [
       "array([ 0,  3, 45, 45, 27, 47, 42, 23, 10, 27])"
      ]
     },
     "execution_count": 40,
     "metadata": {},
     "output_type": "execute_result"
    }
   ],
   "source": [
    "array = np.random.randint(0, 50, 10)\n",
    "array"
   ]
  },
  {
   "cell_type": "code",
   "execution_count": 41,
   "id": "7781b83c-02ce-412b-b123-17b718da1030",
   "metadata": {},
   "outputs": [
    {
     "data": {
      "text/plain": [
       "47"
      ]
     },
     "execution_count": 41,
     "metadata": {},
     "output_type": "execute_result"
    }
   ],
   "source": [
    "array.max()"
   ]
  },
  {
   "cell_type": "code",
   "execution_count": 42,
   "id": "034eac84-d1b7-4243-a3a4-ab91d356e221",
   "metadata": {},
   "outputs": [
    {
     "data": {
      "text/plain": [
       "0"
      ]
     },
     "execution_count": 42,
     "metadata": {},
     "output_type": "execute_result"
    }
   ],
   "source": [
    "array.min()"
   ]
  },
  {
   "cell_type": "code",
   "execution_count": 43,
   "id": "3fcdf291-048a-40b0-8435-715daab6d89b",
   "metadata": {},
   "outputs": [
    {
     "data": {
      "text/plain": [
       "5"
      ]
     },
     "execution_count": 43,
     "metadata": {},
     "output_type": "execute_result"
    }
   ],
   "source": [
    "#Indice de valor máximo\n",
    "array.argmax()"
   ]
  },
  {
   "cell_type": "code",
   "execution_count": 44,
   "id": "fc24fd36-09c9-4cf0-ba66-763b8333d8a1",
   "metadata": {},
   "outputs": [
    {
     "data": {
      "text/plain": [
       "0"
      ]
     },
     "execution_count": 44,
     "metadata": {},
     "output_type": "execute_result"
    }
   ],
   "source": [
    "#Indice del valor minimo\n",
    "array.argmin()"
   ]
  },
  {
   "cell_type": "code",
   "execution_count": 45,
   "id": "27424f2c-8115-46a7-a1ed-1182ff60358a",
   "metadata": {},
   "outputs": [
    {
     "data": {
      "text/plain": [
       "array([  0,   3,  45, 255,  27,  47,  42,  23,  10,  27])"
      ]
     },
     "execution_count": 45,
     "metadata": {},
     "output_type": "execute_result"
    }
   ],
   "source": [
    "array[3] = 255\n",
    "array"
   ]
  },
  {
   "cell_type": "code",
   "execution_count": 46,
   "id": "a5dc7683-93f8-4224-bf4d-cec159d6daf7",
   "metadata": {},
   "outputs": [
    {
     "data": {
      "text/plain": [
       "array([ 45, 255,  27,  47])"
      ]
     },
     "execution_count": 46,
     "metadata": {},
     "output_type": "execute_result"
    }
   ],
   "source": [
    "array[2:6]"
   ]
  },
  {
   "cell_type": "code",
   "execution_count": 47,
   "id": "90708e32-be59-42b2-8b60-ed12b8c8edcc",
   "metadata": {},
   "outputs": [
    {
     "data": {
      "text/plain": [
       "array([ 45, 255,  27,  47,  42,  23,  10,  27])"
      ]
     },
     "execution_count": 47,
     "metadata": {},
     "output_type": "execute_result"
    }
   ],
   "source": [
    "array[2:]"
   ]
  },
  {
   "cell_type": "code",
   "execution_count": 48,
   "id": "0b33f7f9-8602-47b2-8a36-46ec5e4f25d2",
   "metadata": {},
   "outputs": [
    {
     "data": {
      "text/plain": [
       "array([  0,   3,  45, 255,  27,  47])"
      ]
     },
     "execution_count": 48,
     "metadata": {},
     "output_type": "execute_result"
    }
   ],
   "source": [
    "array[:6]"
   ]
  },
  {
   "cell_type": "code",
   "execution_count": 49,
   "id": "be6be918-5624-4b12-b281-21aee139400e",
   "metadata": {},
   "outputs": [
    {
     "data": {
      "text/plain": [
       "array([47, 42, 23])"
      ]
     },
     "execution_count": 49,
     "metadata": {},
     "output_type": "execute_result"
    }
   ],
   "source": [
    "array[-5:-2]"
   ]
  },
  {
   "cell_type": "code",
   "execution_count": 50,
   "id": "a1f2cf91-5894-4146-bf3c-b3b0eba8c6d0",
   "metadata": {},
   "outputs": [
    {
     "data": {
      "text/plain": [
       "array([45, 27, 42])"
      ]
     },
     "execution_count": 50,
     "metadata": {},
     "output_type": "execute_result"
    }
   ],
   "source": [
    "array[2:8:2]"
   ]
  },
  {
   "cell_type": "code",
   "execution_count": 51,
   "id": "8da8c270-7b91-4dc7-8e47-b11a5533e70b",
   "metadata": {},
   "outputs": [
    {
     "data": {
      "text/plain": [
       "array([ 27,  10,  23,  42,  47,  27, 255,  45,   3,   0])"
      ]
     },
     "execution_count": 51,
     "metadata": {},
     "output_type": "execute_result"
    }
   ],
   "source": [
    "array[::-1]"
   ]
  },
  {
   "cell_type": "code",
   "execution_count": 52,
   "id": "4ff9caf2-040c-4eca-a178-4b713d865518",
   "metadata": {},
   "outputs": [
    {
     "data": {
      "text/plain": [
       "array([  0,   3,  45, 255,  27,  47,  42,  23,  10,  27])"
      ]
     },
     "execution_count": 52,
     "metadata": {},
     "output_type": "execute_result"
    }
   ],
   "source": [
    "array"
   ]
  },
  {
   "cell_type": "code",
   "execution_count": 53,
   "id": "2ed4ba45-95d1-428a-bedd-b147f9cb4454",
   "metadata": {},
   "outputs": [
    {
     "data": {
      "text/plain": [
       "array([ 0,  3,  1,  2,  3,  4, 42, 23, 10, 27])"
      ]
     },
     "execution_count": 53,
     "metadata": {},
     "output_type": "execute_result"
    }
   ],
   "source": [
    "#array[2:4] = [1, 2, 3, 4]\n",
    "array[2:6] = [1, 2, 3, 4]\n",
    "array"
   ]
  },
  {
   "cell_type": "code",
   "execution_count": 54,
   "id": "bae7ca19-4e9d-4444-9a52-62e266142506",
   "metadata": {},
   "outputs": [
    {
     "data": {
      "text/plain": [
       "array([  0,   3,   1, 777, 777, 777, 777, 777,  10,  27])"
      ]
     },
     "execution_count": 54,
     "metadata": {},
     "output_type": "execute_result"
    }
   ],
   "source": [
    "array[3:8] = 777\n",
    "array"
   ]
  },
  {
   "cell_type": "code",
   "execution_count": 55,
   "id": "37ca5302-11aa-4447-a78b-782f99dce200",
   "metadata": {},
   "outputs": [
    {
     "data": {
      "text/plain": [
       "array([[41, 32, 28, 15, 22],\n",
       "       [41, 49, 14,  1,  3],\n",
       "       [48, 21,  8, 27, 11],\n",
       "       [23, 45, 41, 28, 25],\n",
       "       [37, 39, 20, 26,  6]])"
      ]
     },
     "execution_count": 55,
     "metadata": {},
     "output_type": "execute_result"
    }
   ],
   "source": [
    "matrix = np.random.randint(0, 50, (5,5))\n",
    "matrix"
   ]
  },
  {
   "cell_type": "code",
   "execution_count": 56,
   "id": "16537b66-6bd7-46a0-aeed-30d78e7961ed",
   "metadata": {},
   "outputs": [
    {
     "data": {
      "text/plain": [
       "array([41, 32, 28, 15, 22])"
      ]
     },
     "execution_count": 56,
     "metadata": {},
     "output_type": "execute_result"
    }
   ],
   "source": [
    "matrix[0]"
   ]
  },
  {
   "cell_type": "code",
   "execution_count": 57,
   "id": "29e2706c-408a-4e42-8847-8340a5f38c48",
   "metadata": {},
   "outputs": [
    {
     "data": {
      "text/plain": [
       "21"
      ]
     },
     "execution_count": 57,
     "metadata": {},
     "output_type": "execute_result"
    }
   ],
   "source": [
    "matrix[2][1]"
   ]
  },
  {
   "cell_type": "code",
   "execution_count": 58,
   "id": "4ff522b9-d10c-45ab-92c2-6cddfcea90cf",
   "metadata": {},
   "outputs": [
    {
     "data": {
      "text/plain": [
       "21"
      ]
     },
     "execution_count": 58,
     "metadata": {},
     "output_type": "execute_result"
    }
   ],
   "source": [
    "matrix[2,1]"
   ]
  },
  {
   "cell_type": "code",
   "execution_count": 118,
   "id": "f36d502a-b506-4f3f-8b21-9ae08c483858",
   "metadata": {},
   "outputs": [
    {
     "data": {
      "text/plain": [
       "array([[41, 32, 28, 15, 22],\n",
       "       [41, 49, 14,  1,  3],\n",
       "       [48, 21,  8, 27, 11],\n",
       "       [23, 45, 41, 28, 25],\n",
       "       [37, 39, 20, 26,  6]])"
      ]
     },
     "execution_count": 118,
     "metadata": {},
     "output_type": "execute_result"
    }
   ],
   "source": [
    "matrix"
   ]
  },
  {
   "cell_type": "code",
   "execution_count": 128,
   "id": "5c8e5d46-df3c-46aa-8bb1-edddbb92a92e",
   "metadata": {},
   "outputs": [
    {
     "data": {
      "text/plain": [
       "array([[49, 14,  1],\n",
       "       [21,  8, 27],\n",
       "       [45, 41, 28]])"
      ]
     },
     "execution_count": 128,
     "metadata": {},
     "output_type": "execute_result"
    }
   ],
   "source": [
    "matrix[1:4, 1:4]"
   ]
  },
  {
   "cell_type": "code",
   "execution_count": 130,
   "id": "73d9a496-9e8e-419d-96c0-c3609a3245a6",
   "metadata": {},
   "outputs": [
    {
     "data": {
      "text/plain": [
       "array([[41, 49, 14,  1,  3],\n",
       "       [48, 21,  8, 27, 11],\n",
       "       [23, 45, 41, 28, 25]])"
      ]
     },
     "execution_count": 130,
     "metadata": {},
     "output_type": "execute_result"
    }
   ],
   "source": [
    "matrix[1:4]"
   ]
  },
  {
   "cell_type": "code",
   "execution_count": 132,
   "id": "151a7eb5-4262-49ee-a553-7fd2f7dced5c",
   "metadata": {},
   "outputs": [
    {
     "data": {
      "text/plain": [
       "array([[48, 21,  8, 27, 11],\n",
       "       [23, 45, 41, 28, 25]])"
      ]
     },
     "execution_count": 132,
     "metadata": {},
     "output_type": "execute_result"
    }
   ],
   "source": [
    "matrix[1:4][1:4]"
   ]
  },
  {
   "cell_type": "code",
   "execution_count": 139,
   "id": "3e6f259b-d4d1-4588-8b3e-c9c19882ad69",
   "metadata": {},
   "outputs": [
    {
     "data": {
      "text/plain": [
       "array([[41, 32, 28, 15, 22],\n",
       "       [41,  0,  0,  0,  3],\n",
       "       [48,  0,  0,  0, 11],\n",
       "       [23,  0,  0,  0, 25],\n",
       "       [37, 39, 20, 26,  6]])"
      ]
     },
     "execution_count": 139,
     "metadata": {},
     "output_type": "execute_result"
    }
   ],
   "source": [
    "matrix[1:4, 1:4] = 0\n",
    "matrix"
   ]
  },
  {
   "cell_type": "code",
   "execution_count": 159,
   "id": "8469af05-7a3b-4fc6-aa92-7258945b5a06",
   "metadata": {},
   "outputs": [
    {
     "data": {
      "text/plain": [
       "array([[41, 32, 28, 15, 22],\n",
       "       [37, 39, 20, 26,  6]])"
      ]
     },
     "execution_count": 159,
     "metadata": {},
     "output_type": "execute_result"
    }
   ],
   "source": [
    "matrix[(0,4), :]"
   ]
  },
  {
   "cell_type": "code",
   "execution_count": 167,
   "id": "27f0f1bf-ae3b-4588-b29a-68cf9bf674cc",
   "metadata": {},
   "outputs": [
    {
     "data": {
      "text/plain": [
       "array([[41, 22],\n",
       "       [41,  3],\n",
       "       [48, 11],\n",
       "       [23, 25],\n",
       "       [37,  6]])"
      ]
     },
     "execution_count": 167,
     "metadata": {},
     "output_type": "execute_result"
    }
   ],
   "source": [
    "matrix[:, (0,4)]"
   ]
  },
  {
   "cell_type": "code",
   "execution_count": 175,
   "id": "faacac70-3be4-4fc5-bc12-63ebd8c2cec6",
   "metadata": {},
   "outputs": [
    {
     "data": {
      "text/plain": [
       "9.0"
      ]
     },
     "execution_count": 175,
     "metadata": {},
     "output_type": "execute_result"
    }
   ],
   "source": [
    "np.sqrt(81)"
   ]
  },
  {
   "cell_type": "code",
   "execution_count": 173,
   "id": "03134a52-8438-401c-a4e4-0113cdd4993a",
   "metadata": {
    "scrolled": true
   },
   "outputs": [
    {
     "data": {
      "text/plain": [
       "array([[6.40312424, 5.65685425, 5.29150262, 3.87298335, 4.69041576],\n",
       "       [6.40312424, 0.        , 0.        , 0.        , 1.73205081],\n",
       "       [6.92820323, 0.        , 0.        , 0.        , 3.31662479],\n",
       "       [4.79583152, 0.        , 0.        , 0.        , 5.        ],\n",
       "       [6.08276253, 6.244998  , 4.47213595, 5.09901951, 2.44948974]])"
      ]
     },
     "execution_count": 173,
     "metadata": {},
     "output_type": "execute_result"
    }
   ],
   "source": [
    "np.sqrt(matrix)"
   ]
  },
  {
   "cell_type": "code",
   "execution_count": 177,
   "id": "780c510f-0f97-4a0c-a3f4-5b14c564116f",
   "metadata": {},
   "outputs": [
    {
     "data": {
      "text/plain": [
       "array([[-0.98733928,  0.83422336, -0.96260587, -0.75968791, -0.99996083],\n",
       "       [-0.98733928,  1.        ,  1.        ,  1.        , -0.9899925 ],\n",
       "       [-0.64014434,  1.        ,  1.        ,  1.        ,  0.0044257 ],\n",
       "       [-0.53283302,  1.        ,  1.        ,  1.        ,  0.99120281],\n",
       "       [ 0.76541405,  0.26664293,  0.40808206,  0.64691932,  0.96017029]])"
      ]
     },
     "execution_count": 177,
     "metadata": {},
     "output_type": "execute_result"
    }
   ],
   "source": [
    "np.cos(matrix)"
   ]
  },
  {
   "cell_type": "code",
   "execution_count": 179,
   "id": "d8871a52-f7ce-4336-9c02-19a01063a7a0",
   "metadata": {},
   "outputs": [
    {
     "data": {
      "text/plain": [
       "array([[6.39843494e+17, 7.89629602e+13, 1.44625706e+12, 3.26901737e+06,\n",
       "        3.58491285e+09],\n",
       "       [6.39843494e+17, 1.00000000e+00, 1.00000000e+00, 1.00000000e+00,\n",
       "        2.00855369e+01],\n",
       "       [7.01673591e+20, 1.00000000e+00, 1.00000000e+00, 1.00000000e+00,\n",
       "        5.98741417e+04],\n",
       "       [9.74480345e+09, 1.00000000e+00, 1.00000000e+00, 1.00000000e+00,\n",
       "        7.20048993e+10],\n",
       "       [1.17191424e+16, 8.65934004e+16, 4.85165195e+08, 1.95729609e+11,\n",
       "        4.03428793e+02]])"
      ]
     },
     "execution_count": 179,
     "metadata": {},
     "output_type": "execute_result"
    }
   ],
   "source": [
    "np.exp(matrix)"
   ]
  },
  {
   "cell_type": "code",
   "execution_count": 181,
   "id": "0197b31b-7cb7-4030-9aa4-19f11ff9f1f0",
   "metadata": {},
   "outputs": [
    {
     "data": {
      "text/plain": [
       "array([[46, 37, 33, 20, 27],\n",
       "       [46,  5,  5,  5,  8],\n",
       "       [53,  5,  5,  5, 16],\n",
       "       [28,  5,  5,  5, 30],\n",
       "       [42, 44, 25, 31, 11]])"
      ]
     },
     "execution_count": 181,
     "metadata": {},
     "output_type": "execute_result"
    }
   ],
   "source": [
    "matrix + 5"
   ]
  },
  {
   "cell_type": "code",
   "execution_count": 183,
   "id": "eecd20e0-6bac-4e53-b747-dc9771f71243",
   "metadata": {},
   "outputs": [
    {
     "data": {
      "text/plain": [
       "array([[1681, 1024,  784,  225,  484],\n",
       "       [1681,    0,    0,    0,    9],\n",
       "       [2304,    0,    0,    0,  121],\n",
       "       [ 529,    0,    0,    0,  625],\n",
       "       [1369, 1521,  400,  676,   36]])"
      ]
     },
     "execution_count": 183,
     "metadata": {},
     "output_type": "execute_result"
    }
   ],
   "source": [
    "matrix ** 2"
   ]
  },
  {
   "cell_type": "code",
   "execution_count": 185,
   "id": "0c5bba30-9db5-4701-923d-9c6b6824b9b2",
   "metadata": {},
   "outputs": [
    {
     "data": {
      "text/plain": [
       "array([[41, 32, 28, 15, 22],\n",
       "       [41,  0,  0,  0,  3],\n",
       "       [48,  0,  0,  0, 11],\n",
       "       [23,  0,  0,  0, 25],\n",
       "       [37, 39, 20, 26,  6]])"
      ]
     },
     "execution_count": 185,
     "metadata": {},
     "output_type": "execute_result"
    }
   ],
   "source": [
    "matrix"
   ]
  },
  {
   "cell_type": "code",
   "execution_count": 187,
   "id": "e20749fd-8e17-4170-916d-9ea84c1540fc",
   "metadata": {},
   "outputs": [
    {
     "data": {
      "text/plain": [
       "array([[30, 21, 21, 35, 46],\n",
       "       [42, 35, 29, 36, 20],\n",
       "       [26, 41, 42, 43, 46],\n",
       "       [26, 10,  5,  3, 49],\n",
       "       [40, 16, 44, 21, 40]])"
      ]
     },
     "execution_count": 187,
     "metadata": {},
     "output_type": "execute_result"
    }
   ],
   "source": [
    "matrix = np.random.randint(0, 50, (5,5))\n",
    "matrix"
   ]
  },
  {
   "cell_type": "code",
   "execution_count": 189,
   "id": "a61ffe0e-02c8-4a10-9cf3-81a528d04e34",
   "metadata": {},
   "outputs": [
    {
     "data": {
      "text/plain": [
       "array([[ True, False, False,  True,  True],\n",
       "       [ True,  True,  True,  True, False],\n",
       "       [ True,  True,  True,  True,  True],\n",
       "       [ True, False, False, False,  True],\n",
       "       [ True, False,  True, False,  True]])"
      ]
     },
     "execution_count": 189,
     "metadata": {},
     "output_type": "execute_result"
    }
   ],
   "source": [
    "matrix > 25"
   ]
  },
  {
   "cell_type": "code",
   "execution_count": 191,
   "id": "8c8f4069-9bdc-429d-ac99-9ec7c6d6e14d",
   "metadata": {},
   "outputs": [
    {
     "data": {
      "text/plain": [
       "array([30, 35, 46, 42, 35, 29, 36, 26, 41, 42, 43, 46, 26, 49, 40, 44, 40])"
      ]
     },
     "execution_count": 191,
     "metadata": {},
     "output_type": "execute_result"
    }
   ],
   "source": [
    "matrix[matrix > 25]"
   ]
  },
  {
   "cell_type": "code",
   "execution_count": 195,
   "id": "7969b37c-a26f-417d-9862-bf8136329ac0",
   "metadata": {},
   "outputs": [],
   "source": [
    "A = np.array([1, 2, 0, 3])\n",
    "B = np.array([-1, 1, 2, 1])"
   ]
  },
  {
   "cell_type": "code",
   "execution_count": 197,
   "id": "fefed47a-ccaf-4c53-bc38-e19771691ebd",
   "metadata": {},
   "outputs": [
    {
     "name": "stdout",
     "output_type": "stream",
     "text": [
      "(4,)\n",
      "(4,)\n"
     ]
    }
   ],
   "source": [
    "print(A.shape)\n",
    "print(B.shape)"
   ]
  },
  {
   "cell_type": "code",
   "execution_count": 199,
   "id": "4ef138c3-7a6b-4fbf-9e15-810129af3db6",
   "metadata": {},
   "outputs": [
    {
     "data": {
      "text/plain": [
       "4"
      ]
     },
     "execution_count": 199,
     "metadata": {},
     "output_type": "execute_result"
    }
   ],
   "source": [
    "A.dot(B) #Producto punto"
   ]
  },
  {
   "cell_type": "code",
   "execution_count": 201,
   "id": "50e7f7a5-13e6-4123-9f1a-3397211eec76",
   "metadata": {},
   "outputs": [
    {
     "data": {
      "text/plain": [
       "array([0, 3, 2, 4])"
      ]
     },
     "execution_count": 201,
     "metadata": {},
     "output_type": "execute_result"
    }
   ],
   "source": [
    "A + B"
   ]
  },
  {
   "cell_type": "code",
   "execution_count": 203,
   "id": "030a27b1-89cf-40ab-87f6-bec9b8d4ceb1",
   "metadata": {},
   "outputs": [
    {
     "data": {
      "text/plain": [
       "array([-1,  2,  0,  3])"
      ]
     },
     "execution_count": 203,
     "metadata": {},
     "output_type": "execute_result"
    }
   ],
   "source": [
    "A * B"
   ]
  },
  {
   "cell_type": "code",
   "execution_count": 207,
   "id": "563d5708-e66c-4660-b8f4-40b027ee171b",
   "metadata": {},
   "outputs": [
    {
     "data": {
      "text/plain": [
       "4"
      ]
     },
     "execution_count": 207,
     "metadata": {},
     "output_type": "execute_result"
    }
   ],
   "source": [
    "np.matmul(A, B) #producto punto"
   ]
  },
  {
   "cell_type": "code",
   "execution_count": 211,
   "id": "28125d3b-b959-454a-8201-a422265ed83f",
   "metadata": {},
   "outputs": [
    {
     "data": {
      "text/plain": [
       "4"
      ]
     },
     "execution_count": 211,
     "metadata": {},
     "output_type": "execute_result"
    }
   ],
   "source": [
    "A @ B #El @ se refiere a matmul"
   ]
  },
  {
   "cell_type": "code",
   "execution_count": 213,
   "id": "e65c5ef3-5b84-4faa-b661-72117b5585a3",
   "metadata": {},
   "outputs": [],
   "source": [
    "A = np.array([[1, 2, 0, 3]])\n",
    "B = np.array([[-1, 1, 2, 1]])"
   ]
  },
  {
   "cell_type": "code",
   "execution_count": 215,
   "id": "8cf03148-ea5a-496a-a6d4-63d9b9e8e165",
   "metadata": {},
   "outputs": [
    {
     "name": "stdout",
     "output_type": "stream",
     "text": [
      "(1, 4)\n",
      "(1, 4)\n"
     ]
    }
   ],
   "source": [
    "print(A.shape)\n",
    "print(B.shape)"
   ]
  },
  {
   "cell_type": "code",
   "execution_count": 219,
   "id": "348a02e2-983c-4328-9147-f1833e8ac52e",
   "metadata": {},
   "outputs": [
    {
     "data": {
      "text/plain": [
       "array([[4]])"
      ]
     },
     "execution_count": 219,
     "metadata": {},
     "output_type": "execute_result"
    }
   ],
   "source": [
    "A.dot(B.T) #B.T es que se sacó la traspuesta"
   ]
  },
  {
   "cell_type": "code",
   "execution_count": 221,
   "id": "c7b09415-d6cf-49b6-8759-d6c1c0d185a2",
   "metadata": {},
   "outputs": [
    {
     "data": {
      "text/plain": [
       "array([[4]])"
      ]
     },
     "execution_count": 221,
     "metadata": {},
     "output_type": "execute_result"
    }
   ],
   "source": [
    "np.matmul(A, B.T)"
   ]
  },
  {
   "cell_type": "code",
   "execution_count": 223,
   "id": "42ab9ef0-9703-4404-8b69-b49c21a40ab8",
   "metadata": {},
   "outputs": [
    {
     "data": {
      "text/plain": [
       "array([[4]])"
      ]
     },
     "execution_count": 223,
     "metadata": {},
     "output_type": "execute_result"
    }
   ],
   "source": [
    "A @ B.T"
   ]
  },
  {
   "cell_type": "code",
   "execution_count": 227,
   "id": "a3e9a05b-a3c0-49c4-850c-fbdd2386dbaa",
   "metadata": {},
   "outputs": [],
   "source": [
    "A = np.array([1, 2, 3])\n",
    "B = np.array([[1, 0, 1], \n",
    "             [-1, 2, 0],\n",
    "             [1, 1, 0]])"
   ]
  },
  {
   "cell_type": "code",
   "execution_count": 229,
   "id": "5bc07558-67ae-47f7-8a65-8ed48a47add7",
   "metadata": {},
   "outputs": [
    {
     "name": "stdout",
     "output_type": "stream",
     "text": [
      "(3,)\n",
      "(3, 3)\n"
     ]
    }
   ],
   "source": [
    "print(A.shape)\n",
    "print(B.shape)"
   ]
  },
  {
   "cell_type": "code",
   "execution_count": 231,
   "id": "920f860d-96eb-4a44-aae3-ddf6aedf9a08",
   "metadata": {},
   "outputs": [
    {
     "data": {
      "text/plain": [
       "array([[ 1,  0,  3],\n",
       "       [-1,  4,  0],\n",
       "       [ 1,  2,  0]])"
      ]
     },
     "execution_count": 231,
     "metadata": {},
     "output_type": "execute_result"
    }
   ],
   "source": [
    "A * B #(m, n)*(n,q) = (m,q)"
   ]
  },
  {
   "cell_type": "code",
   "execution_count": 233,
   "id": "9d0d86d7-cbbf-438a-96c1-847ff076c437",
   "metadata": {},
   "outputs": [
    {
     "data": {
      "text/plain": [
       "array([2, 7, 1])"
      ]
     },
     "execution_count": 233,
     "metadata": {},
     "output_type": "execute_result"
    }
   ],
   "source": [
    "A.dot(B)"
   ]
  },
  {
   "cell_type": "code",
   "execution_count": 235,
   "id": "5c1bad13-5748-4145-93ce-4162f43705c9",
   "metadata": {},
   "outputs": [
    {
     "data": {
      "text/plain": [
       "array([2, 7, 1])"
      ]
     },
     "execution_count": 235,
     "metadata": {},
     "output_type": "execute_result"
    }
   ],
   "source": [
    "np.matmul(A, B)"
   ]
  },
  {
   "cell_type": "code",
   "execution_count": 237,
   "id": "a6e47a97-e21b-4fc7-95fa-7b512c67001e",
   "metadata": {},
   "outputs": [
    {
     "data": {
      "text/plain": [
       "array([2, 7, 1])"
      ]
     },
     "execution_count": 237,
     "metadata": {},
     "output_type": "execute_result"
    }
   ],
   "source": [
    "A @ B"
   ]
  },
  {
   "cell_type": "code",
   "execution_count": 239,
   "id": "9fe09ca9-89f5-4779-a8ff-5435a878a427",
   "metadata": {},
   "outputs": [],
   "source": [
    "A = np.array([[1, 2, 3]])\n",
    "B = np.array([[1, 0, 1], \n",
    "             [-1, 2, 0],\n",
    "             [1, 1, 0]])"
   ]
  },
  {
   "cell_type": "code",
   "execution_count": 241,
   "id": "8cc0d4b3-7bca-4f52-82b4-19543806f0c7",
   "metadata": {},
   "outputs": [
    {
     "name": "stdout",
     "output_type": "stream",
     "text": [
      "(1, 3)\n",
      "(3, 3)\n"
     ]
    }
   ],
   "source": [
    "print(A.shape)\n",
    "print(B.shape)"
   ]
  },
  {
   "cell_type": "code",
   "execution_count": 243,
   "id": "e2c51e5f-3437-4151-9c57-86b25d8fb804",
   "metadata": {},
   "outputs": [
    {
     "data": {
      "text/plain": [
       "array([[2, 7, 1]])"
      ]
     },
     "execution_count": 243,
     "metadata": {},
     "output_type": "execute_result"
    }
   ],
   "source": [
    "A.dot(B)"
   ]
  },
  {
   "cell_type": "code",
   "execution_count": 245,
   "id": "1c770015-b202-4894-a26a-4cfb01622fd2",
   "metadata": {},
   "outputs": [
    {
     "data": {
      "text/plain": [
       "array([[2, 7, 1]])"
      ]
     },
     "execution_count": 245,
     "metadata": {},
     "output_type": "execute_result"
    }
   ],
   "source": [
    "np.matmul(A, B)"
   ]
  },
  {
   "cell_type": "code",
   "execution_count": 247,
   "id": "da8fb53e-6ea9-4ab4-8608-2bc1a728de56",
   "metadata": {},
   "outputs": [
    {
     "data": {
      "text/plain": [
       "array([[2, 7, 1]])"
      ]
     },
     "execution_count": 247,
     "metadata": {},
     "output_type": "execute_result"
    }
   ],
   "source": [
    "A @ B"
   ]
  },
  {
   "cell_type": "code",
   "execution_count": 249,
   "id": "e7a79c21-da2f-4cd4-91f6-60be9f996492",
   "metadata": {},
   "outputs": [
    {
     "data": {
      "text/plain": [
       "array([[4],\n",
       "       [3],\n",
       "       [3]])"
      ]
     },
     "execution_count": 249,
     "metadata": {},
     "output_type": "execute_result"
    }
   ],
   "source": [
    "B @ A.T"
   ]
  },
  {
   "cell_type": "code",
   "execution_count": null,
   "id": "607f3da6-72cd-4e40-b439-b0275ea8ff00",
   "metadata": {},
   "outputs": [],
   "source": []
  }
 ],
 "metadata": {
  "kernelspec": {
   "display_name": "Python 3 (ipykernel)",
   "language": "python",
   "name": "python3"
  },
  "language_info": {
   "codemirror_mode": {
    "name": "ipython",
    "version": 3
   },
   "file_extension": ".py",
   "mimetype": "text/x-python",
   "name": "python",
   "nbconvert_exporter": "python",
   "pygments_lexer": "ipython3",
   "version": "3.12.4"
  }
 },
 "nbformat": 4,
 "nbformat_minor": 5
}
