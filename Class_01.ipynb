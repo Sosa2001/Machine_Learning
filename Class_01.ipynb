{
 "cells": [
  {
   "cell_type": "markdown",
   "id": "a6886075-4154-4c27-a737-612881b31022",
   "metadata": {},
   "source": [
    "Hola, este es un texto tipo HTML"
   ]
  },
  {
   "attachments": {
    "24807a53-8747-492e-8794-45dac63f81c9.png": {
     "image/png": "[encoded data removed]"
    }
   },
   "cell_type": "markdown",
   "id": "935757cc-368a-4bf6-8377-7f0529ec51ad",
   "metadata": {},
   "source": [
    "![image.png](attachment:24807a53-8747-492e-8794-45dac63f81c9.png)"
   ]
  },
  {
   "cell_type": "markdown",
   "id": "3cec81ce-1f03-4c14-a3da-9c4afbb57da4",
   "metadata": {},
   "source": [
    "Este texto es tipo <b>Bold"
   ]
  },
  {
   "cell_type": "markdown",
   "id": "6fab58a2-1c1f-4d85-925f-7ff8cb0ac6bd",
   "metadata": {},
   "source": [
    "<ul>\n",
    "    <li>Mercurio</li>\n",
    "    <li>Venus</li>\n",
    "    <li>Tierra</li>\n",
    "</ul>"
   ]
  },
  {
   "cell_type": "markdown",
   "id": "17fed1be-5ac7-4cfc-8e1e-8fd7bd380bcc",
   "metadata": {},
   "source": [
    "$ y_i = \\theta_i + \\sum^m_{j=0}{x^i_j} $\n",
    "$$ y_i = \\theta_i + \\sum^m_{j=0}{x^i_j} $$"
   ]
  },
  {
   "cell_type": "code",
   "execution_count": 212,
   "id": "f78b91d0-4701-4e5e-9e74-99b28532c48b",
   "metadata": {},
   "outputs": [],
   "source": [
    "# Comentario Python"
   ]
  },
  {
   "cell_type": "code",
   "execution_count": 213,
   "id": "327d45e3-2323-4219-8e46-7172ed0ff5ec",
   "metadata": {},
   "outputs": [
    {
     "data": {
      "text/plain": [
       "'Hola'"
      ]
     },
     "execution_count": 213,
     "metadata": {},
     "output_type": "execute_result"
    }
   ],
   "source": [
    "x = \"Hola\"\n",
    "x"
   ]
  },
  {
   "cell_type": "code",
   "execution_count": 214,
   "id": "5a3a987e-ece8-488f-8b10-eee0591a9361",
   "metadata": {
    "scrolled": true
   },
   "outputs": [
    {
     "data": {
      "text/plain": [
       "str"
      ]
     },
     "execution_count": 214,
     "metadata": {},
     "output_type": "execute_result"
    }
   ],
   "source": [
    "type(x)"
   ]
  },
  {
   "cell_type": "code",
   "execution_count": 215,
   "id": "cfc2bdff-6820-4ed1-8a26-95e28f697eb2",
   "metadata": {},
   "outputs": [
    {
     "name": "stdout",
     "output_type": "stream",
     "text": [
      "<class 'int'>\n",
      "<class 'float'>\n",
      "<class 'complex'>\n",
      "<class 'str'>\n",
      "<class 'bool'>\n",
      "<class 'NoneType'>\n"
     ]
    }
   ],
   "source": [
    "print(type(5))\n",
    "print(type(5.5))\n",
    "print(type(5 + 6j))\n",
    "print(type(\"Hola\"))\n",
    "print(type(True))\n",
    "print(type(None))"
   ]
  },
  {
   "cell_type": "code",
   "execution_count": 216,
   "id": "17835435-50c3-471d-9ad8-903798131915",
   "metadata": {},
   "outputs": [
    {
     "data": {
      "text/plain": [
       "'cadena\\n    multi-línea\\n    de Python'"
      ]
     },
     "execution_count": 216,
     "metadata": {},
     "output_type": "execute_result"
    }
   ],
   "source": [
    "x = \"\"\"cadena\n",
    "    multi-línea\n",
    "    de Python\"\"\"\n",
    "x"
   ]
  },
  {
   "cell_type": "code",
   "execution_count": 217,
   "id": "0d97a48b-b53d-40a7-9a0d-86770d1669f6",
   "metadata": {},
   "outputs": [
    {
     "name": "stdout",
     "output_type": "stream",
     "text": [
      "cadena\n",
      "    multi-línea\n",
      "    de Python\n"
     ]
    }
   ],
   "source": [
    "print(x)"
   ]
  },
  {
   "cell_type": "code",
   "execution_count": 218,
   "id": "b9ce9229-ece9-46bb-b586-75d661bc428f",
   "metadata": {},
   "outputs": [
    {
     "data": {
      "text/plain": [
       "36"
      ]
     },
     "execution_count": 218,
     "metadata": {},
     "output_type": "execute_result"
    }
   ],
   "source": [
    "len(x)\n"
   ]
  },
  {
   "cell_type": "code",
   "execution_count": 219,
   "id": "6efa5953-5ebd-4cd3-89a6-3241ca592f7d",
   "metadata": {},
   "outputs": [
    {
     "name": "stdout",
     "output_type": "stream",
     "text": [
      "h\n",
      "o\n",
      "l\n",
      "a\n"
     ]
    }
   ],
   "source": [
    "for c in \"hola\":\n",
    "    print(c)"
   ]
  },
  {
   "cell_type": "code",
   "execution_count": 220,
   "id": "70a1309a-cb6a-446e-97cb-443913856f7d",
   "metadata": {},
   "outputs": [
    {
     "data": {
      "text/plain": [
       "True"
      ]
     },
     "execution_count": 220,
     "metadata": {},
     "output_type": "execute_result"
    }
   ],
   "source": [
    "\"de\" in x\n"
   ]
  },
  {
   "cell_type": "code",
   "execution_count": 221,
   "id": "c30e5ad4-7f81-4390-91f0-09b3fc71968d",
   "metadata": {},
   "outputs": [
    {
     "data": {
      "text/plain": [
       "False"
      ]
     },
     "execution_count": 221,
     "metadata": {},
     "output_type": "execute_result"
    }
   ],
   "source": [
    "\"de\" not in x"
   ]
  },
  {
   "cell_type": "code",
   "execution_count": 222,
   "id": "5242407f-4ca1-44fc-b505-6fdff92d6246",
   "metadata": {},
   "outputs": [
    {
     "data": {
      "text/plain": [
       "True"
      ]
     },
     "execution_count": 222,
     "metadata": {},
     "output_type": "execute_result"
    }
   ],
   "source": [
    "\"des\" not in x"
   ]
  },
  {
   "cell_type": "code",
   "execution_count": 223,
   "id": "68451d46-705e-4334-96f6-c442d8f54f9a",
   "metadata": {},
   "outputs": [
    {
     "data": {
      "text/plain": [
       "12"
      ]
     },
     "execution_count": 223,
     "metadata": {},
     "output_type": "execute_result"
    }
   ],
   "source": [
    "5 + 7"
   ]
  },
  {
   "cell_type": "code",
   "execution_count": 224,
   "id": "9cced404-d9ce-470f-ad63-ba301a254a0b",
   "metadata": {},
   "outputs": [
    {
     "data": {
      "text/plain": [
       "-2"
      ]
     },
     "execution_count": 224,
     "metadata": {},
     "output_type": "execute_result"
    }
   ],
   "source": [
    "5 - 7"
   ]
  },
  {
   "cell_type": "code",
   "execution_count": 225,
   "id": "20ba2844-5d83-4649-883f-5123eb25779c",
   "metadata": {},
   "outputs": [
    {
     "data": {
      "text/plain": [
       "35"
      ]
     },
     "execution_count": 225,
     "metadata": {},
     "output_type": "execute_result"
    }
   ],
   "source": [
    "5 * 7"
   ]
  },
  {
   "cell_type": "code",
   "execution_count": 226,
   "id": "77ab586b-a8b8-4bac-9694-1c80fb1b3590",
   "metadata": {},
   "outputs": [
    {
     "data": {
      "text/plain": [
       "1.4"
      ]
     },
     "execution_count": 226,
     "metadata": {},
     "output_type": "execute_result"
    }
   ],
   "source": [
    "7 / 5"
   ]
  },
  {
   "cell_type": "code",
   "execution_count": 227,
   "id": "3d754921-1e15-49ba-88ab-5b8882edb187",
   "metadata": {},
   "outputs": [
    {
     "data": {
      "text/plain": [
       "1"
      ]
     },
     "execution_count": 227,
     "metadata": {},
     "output_type": "execute_result"
    }
   ],
   "source": [
    "7//5"
   ]
  },
  {
   "cell_type": "code",
   "execution_count": 228,
   "id": "75c7781d-7d95-4345-87ac-b28a6b15b137",
   "metadata": {},
   "outputs": [
    {
     "data": {
      "text/plain": [
       "3"
      ]
     },
     "execution_count": 228,
     "metadata": {},
     "output_type": "execute_result"
    }
   ],
   "source": [
    "15 % 4\n"
   ]
  },
  {
   "cell_type": "code",
   "execution_count": 229,
   "id": "864d5098-e5d4-46b5-bbd1-007543106727",
   "metadata": {},
   "outputs": [
    {
     "data": {
      "text/plain": [
       "8"
      ]
     },
     "execution_count": 229,
     "metadata": {},
     "output_type": "execute_result"
    }
   ],
   "source": [
    "2 ** 3"
   ]
  },
  {
   "cell_type": "code",
   "execution_count": 230,
   "id": "83934308-6e8d-4695-a894-16a2be1f572f",
   "metadata": {},
   "outputs": [
    {
     "name": "stdout",
     "output_type": "stream",
     "text": [
      "x es negativo\n"
     ]
    }
   ],
   "source": [
    "x = -5\n",
    "\n",
    "if x > 5:\n",
    "    print('x es positivo mayor a cero')\n",
    "elif x == 0:\n",
    "    print('x es cero')\n",
    "else:\n",
    "    print('x es negativo')"
   ]
  },
  {
   "cell_type": "code",
   "execution_count": 231,
   "id": "d93185ac-68fa-4deb-9fad-96c3bde54127",
   "metadata": {},
   "outputs": [
    {
     "name": "stdout",
     "output_type": "stream",
     "text": [
      "x esta FUERA del rango\n"
     ]
    }
   ],
   "source": [
    "x = 3\n",
    "\n",
    "if x >= 5 and x <=10:\n",
    "    print('x esta DENTRO del rango')\n",
    "else:\n",
    "    print('x esta FUERA del rango')"
   ]
  },
  {
   "cell_type": "code",
   "execution_count": 232,
   "id": "d5cc9561-a526-468d-bb6e-154bb53fd6b5",
   "metadata": {},
   "outputs": [
    {
     "name": "stdout",
     "output_type": "stream",
     "text": [
      "x esta FUERA del rango\n"
     ]
    }
   ],
   "source": [
    "x = 3\n",
    "\n",
    "if 5 <= x <=10:\n",
    "    print('x esta DENTRO del rango')\n",
    "else:\n",
    "    print('x esta FUERA del rango')"
   ]
  },
  {
   "cell_type": "code",
   "execution_count": 233,
   "id": "3eb4b243-76e4-4360-a079-dfa280faedfc",
   "metadata": {},
   "outputs": [
    {
     "name": "stdout",
     "output_type": "stream",
     "text": [
      "m =10, n = -5\n",
      "m =-5, n = 10\n"
     ]
    }
   ],
   "source": [
    "m = 10\n",
    "n = -5 \n",
    "print(f'm ={m}, n = {n}')\n",
    "\n",
    "m, n = n, m\n",
    "print(f'm ={m}, n = {n}')"
   ]
  },
  {
   "cell_type": "code",
   "execution_count": 234,
   "id": "8125d715-eca8-4e51-b299-a56395d54ada",
   "metadata": {},
   "outputs": [
    {
     "name": "stdout",
     "output_type": "stream",
     "text": [
      "36\n"
     ]
    }
   ],
   "source": [
    "a = 20 \n",
    "b = 36\n",
    "\n",
    "if a - b >= 0:\n",
    "    max = a\n",
    "else:\n",
    "    max = b\n",
    "\n",
    "print(max)"
   ]
  },
  {
   "cell_type": "code",
   "execution_count": 235,
   "id": "8f9cd6d4-07db-4dfa-8bd2-33d41030e2ac",
   "metadata": {},
   "outputs": [
    {
     "name": "stdout",
     "output_type": "stream",
     "text": [
      "36\n"
     ]
    }
   ],
   "source": [
    "a = 20 \n",
    "b = 36\n",
    "\n",
    "max = a if a > b else b\n",
    "\n",
    "print(max)"
   ]
  },
  {
   "cell_type": "code",
   "execution_count": 236,
   "id": "e71dbabf-d793-4491-965f-1aa1419d7559",
   "metadata": {},
   "outputs": [
    {
     "name": "stdout",
     "output_type": "stream",
     "text": [
      "range(0, 10)\n",
      "<class 'range'>\n"
     ]
    }
   ],
   "source": [
    "x = range (10)\n",
    "print(x)\n",
    "print(type(x))"
   ]
  },
  {
   "cell_type": "code",
   "execution_count": 237,
   "id": "0f2b4d09-2d82-4eae-9c23-16fe68e4390f",
   "metadata": {},
   "outputs": [
    {
     "name": "stdout",
     "output_type": "stream",
     "text": [
      "range(5, 10)\n",
      "<class 'range'>\n"
     ]
    }
   ],
   "source": [
    "x = range (5, 10)\n",
    "print(x)\n",
    "print(type(x))"
   ]
  },
  {
   "cell_type": "code",
   "execution_count": 238,
   "id": "f292609d-bf37-4289-98bc-0a78c85158fa",
   "metadata": {},
   "outputs": [
    {
     "name": "stdout",
     "output_type": "stream",
     "text": [
      "5\n",
      "6\n",
      "7\n",
      "8\n",
      "9\n"
     ]
    }
   ],
   "source": [
    "for i in range (5, 10):\n",
    "    print(i)"
   ]
  },
  {
   "cell_type": "code",
   "execution_count": 239,
   "id": "c52876d9-afce-4abf-9bee-4138f99ff265",
   "metadata": {},
   "outputs": [
    {
     "name": "stdout",
     "output_type": "stream",
     "text": [
      "5\n",
      "7\n",
      "9\n"
     ]
    }
   ],
   "source": [
    "for i in range (5, 10, 2):\n",
    "    print(i)"
   ]
  },
  {
   "cell_type": "code",
   "execution_count": 240,
   "id": "59f475e2-2150-4b42-87dc-c9f62c5ccf2e",
   "metadata": {},
   "outputs": [
    {
     "name": "stdout",
     "output_type": "stream",
     "text": [
      "5\n",
      "7\n",
      "9\n",
      "ya terminé el ciclo\n"
     ]
    }
   ],
   "source": [
    "for i in range (5, 10, 2):\n",
    "    print(i)\n",
    "else: \n",
    "    print('ya terminé el ciclo')"
   ]
  },
  {
   "cell_type": "code",
   "execution_count": 241,
   "id": "d97433f7-8f17-46af-b273-4e5cb7032f86",
   "metadata": {},
   "outputs": [
    {
     "name": "stdout",
     "output_type": "stream",
     "text": [
      "5\n",
      "7\n"
     ]
    }
   ],
   "source": [
    "for i in range (5, 10, 2):\n",
    "    print(i)\n",
    "\n",
    "    if i == 7:\n",
    "        break\n",
    "else: \n",
    "    print('ya terminé el ciclo')"
   ]
  },
  {
   "cell_type": "markdown",
   "id": "f03236dd-c690-4b9c-85c9-f512a0cbeeda",
   "metadata": {},
   "source": [
    "<h1><b>COLECCIONES DE PYTHON</h1>"
   ]
  },
  {
   "cell_type": "code",
   "execution_count": 243,
   "id": "9e6230ba-def3-4780-8b89-d4cec7056843",
   "metadata": {},
   "outputs": [
    {
     "name": "stdout",
     "output_type": "stream",
     "text": [
      "<class 'list'>\n"
     ]
    }
   ],
   "source": [
    "x = [5, 7, 2, -1, 15, 0, 53]\n",
    "print(type(x))"
   ]
  },
  {
   "cell_type": "code",
   "execution_count": 244,
   "id": "a0de9c8b-906a-4684-9942-38fe4195403e",
   "metadata": {},
   "outputs": [
    {
     "name": "stdout",
     "output_type": "stream",
     "text": [
      "<class 'tuple'>\n"
     ]
    }
   ],
   "source": [
    "#Es mejor una tupla para constantes\n",
    "x = (5, 7, 2, -1, 15, 0, 53)\n",
    "print(type(x))"
   ]
  },
  {
   "cell_type": "code",
   "execution_count": 245,
   "id": "1b28edd9-bea8-4407-a1b0-1a06bf5ecabe",
   "metadata": {},
   "outputs": [
    {
     "name": "stdout",
     "output_type": "stream",
     "text": [
      "<class 'set'>\n"
     ]
    }
   ],
   "source": [
    "#son elementos unicos\n",
    "x = {5, 7, 2, -1, 15, 0, 53}\n",
    "print(type(x))"
   ]
  },
  {
   "cell_type": "code",
   "execution_count": 246,
   "id": "07ee418e-c565-4250-8d6b-552df5e145a9",
   "metadata": {},
   "outputs": [
    {
     "name": "stdout",
     "output_type": "stream",
     "text": [
      "<class 'dict'>\n"
     ]
    }
   ],
   "source": [
    "x = {\"val\":56.5, \"text\":\"hola\", \"active\":True}\n",
    "print(type(x))"
   ]
  },
  {
   "cell_type": "markdown",
   "id": "443fe245-510d-4732-9ec0-3d3dff41321c",
   "metadata": {},
   "source": [
    "<h1>Listas"
   ]
  },
  {
   "cell_type": "code",
   "execution_count": 248,
   "id": "feb03e6d-3ef7-4808-a128-95c8634d16f1",
   "metadata": {},
   "outputs": [
    {
     "data": {
      "text/plain": [
       "[1, 2, 3, 4, 5]"
      ]
     },
     "execution_count": 248,
     "metadata": {},
     "output_type": "execute_result"
    }
   ],
   "source": [
    "[1, 2, 3, 4, 5]"
   ]
  },
  {
   "cell_type": "code",
   "execution_count": 249,
   "id": "d2ba6372-f81c-4836-b6b2-454b859e7753",
   "metadata": {},
   "outputs": [
    {
     "data": {
      "text/plain": [
       "[1, 2.63, True, 'Texto', [1, 2], (1, 2)]"
      ]
     },
     "execution_count": 249,
     "metadata": {},
     "output_type": "execute_result"
    }
   ],
   "source": [
    "[1, 2.63, True, 'Texto', [1, 2], (1, 2)]"
   ]
  },
  {
   "cell_type": "code",
   "execution_count": 250,
   "id": "0b6e217c-5546-436c-a411-f2f0281ff955",
   "metadata": {},
   "outputs": [
    {
     "data": {
      "text/plain": [
       "[1, 2]"
      ]
     },
     "execution_count": 250,
     "metadata": {},
     "output_type": "execute_result"
    }
   ],
   "source": [
    "list((1,2))"
   ]
  },
  {
   "cell_type": "code",
   "execution_count": 251,
   "id": "84158a98-5432-4deb-8e1a-631002bd296c",
   "metadata": {},
   "outputs": [
    {
     "data": {
      "text/plain": [
       "[1, 4, 5]"
      ]
     },
     "execution_count": 251,
     "metadata": {},
     "output_type": "execute_result"
    }
   ],
   "source": [
    "list({1, 4, 5})"
   ]
  },
  {
   "cell_type": "code",
   "execution_count": 252,
   "id": "a7d3e310-85b2-4d51-805a-3e4a1783200d",
   "metadata": {},
   "outputs": [
    {
     "data": {
      "text/plain": [
       "[0, 1, 2, 3, 4, 5, 6, 7, 8, 9]"
      ]
     },
     "execution_count": 252,
     "metadata": {},
     "output_type": "execute_result"
    }
   ],
   "source": [
    "list(range(10))"
   ]
  },
  {
   "cell_type": "code",
   "execution_count": 253,
   "id": "e886c5e2-f709-4be0-af8e-4e458d4d66f4",
   "metadata": {},
   "outputs": [
    {
     "name": "stdout",
     "output_type": "stream",
     "text": [
      "3\n",
      "5\n",
      "6\n",
      "7\n"
     ]
    }
   ],
   "source": [
    "for i in [3, 5, 6, 7]:\n",
    "    print(i)"
   ]
  },
  {
   "cell_type": "code",
   "execution_count": 254,
   "id": "a5068736-36ef-4ce2-9759-d57abe196c0a",
   "metadata": {},
   "outputs": [
    {
     "data": {
      "text/plain": [
       "[5, 6, 7, 8, 9, 10, 11, 12, 13, 14]"
      ]
     },
     "execution_count": 254,
     "metadata": {},
     "output_type": "execute_result"
    }
   ],
   "source": [
    "x = list(range(5,15))\n",
    "x"
   ]
  },
  {
   "cell_type": "code",
   "execution_count": 255,
   "id": "3b7f159b-e9b2-4754-bcaa-6288cfb79db4",
   "metadata": {},
   "outputs": [
    {
     "data": {
      "text/plain": [
       "[5, 6, -55, 8, 9, 10, 11, 12, 13, 14]"
      ]
     },
     "execution_count": 255,
     "metadata": {},
     "output_type": "execute_result"
    }
   ],
   "source": [
    "x[2] = -55\n",
    "x"
   ]
  },
  {
   "cell_type": "code",
   "execution_count": 256,
   "id": "55f5e7fc-40ea-4d40-ab37-e37c8df4228b",
   "metadata": {},
   "outputs": [
    {
     "data": {
      "text/plain": [
       "-55"
      ]
     },
     "execution_count": 256,
     "metadata": {},
     "output_type": "execute_result"
    }
   ],
   "source": [
    "x[2]"
   ]
  },
  {
   "cell_type": "code",
   "execution_count": 257,
   "id": "cd470691-3a5d-470e-903f-6dc48c740e31",
   "metadata": {},
   "outputs": [
    {
     "data": {
      "text/plain": [
       "[8, 9, 10, 11]"
      ]
     },
     "execution_count": 257,
     "metadata": {},
     "output_type": "execute_result"
    }
   ],
   "source": [
    "x[3:7]"
   ]
  },
  {
   "cell_type": "code",
   "execution_count": 258,
   "id": "e7d38c50-c0c6-40af-802d-7df562b47ee2",
   "metadata": {},
   "outputs": [],
   "source": [
    "#Error, se requiere iterable\n",
    "# x[3:7] = 100"
   ]
  },
  {
   "cell_type": "code",
   "execution_count": 259,
   "id": "cf55a84f-7516-48ec-9d68-540c2d0bf5f3",
   "metadata": {},
   "outputs": [
    {
     "data": {
      "text/plain": [
       "[5, 6, -55, 0, -1, -2, -3, 12, 13, 14]"
      ]
     },
     "execution_count": 259,
     "metadata": {},
     "output_type": "execute_result"
    }
   ],
   "source": [
    "x[3:7] = [0, -1, -2, -3]\n",
    "x"
   ]
  },
  {
   "cell_type": "code",
   "execution_count": 260,
   "id": "3c943cc1-815e-44bf-b38c-c3d5afd8e98c",
   "metadata": {},
   "outputs": [
    {
     "data": {
      "text/plain": [
       "[5, 6, -55, 0, 12, 13, 14]"
      ]
     },
     "execution_count": 260,
     "metadata": {},
     "output_type": "execute_result"
    }
   ],
   "source": [
    "x[3:7] = [0]\n",
    "x"
   ]
  },
  {
   "cell_type": "code",
   "execution_count": 261,
   "id": "f0b35406-71ed-4844-a8b4-a765506c7ff6",
   "metadata": {},
   "outputs": [
    {
     "data": {
      "text/plain": [
       "[-55, 0, 12, 13, 14]"
      ]
     },
     "execution_count": 261,
     "metadata": {},
     "output_type": "execute_result"
    }
   ],
   "source": [
    "x[2:]"
   ]
  },
  {
   "cell_type": "code",
   "execution_count": 262,
   "id": "f4ecae22-e299-47d7-9b75-d9858242354a",
   "metadata": {},
   "outputs": [
    {
     "data": {
      "text/plain": [
       "[5, 6, -55, 0]"
      ]
     },
     "execution_count": 262,
     "metadata": {},
     "output_type": "execute_result"
    }
   ],
   "source": [
    "x[:4]"
   ]
  },
  {
   "cell_type": "code",
   "execution_count": 263,
   "id": "77dfeb46-070e-49bf-9cc7-22910b676f54",
   "metadata": {},
   "outputs": [
    {
     "data": {
      "text/plain": [
       "[5, 6, 7, 8, 9, 10, 11, 12, 13, 14]"
      ]
     },
     "execution_count": 263,
     "metadata": {},
     "output_type": "execute_result"
    }
   ],
   "source": [
    "x = list(range(5, 15))\n",
    "x"
   ]
  },
  {
   "cell_type": "code",
   "execution_count": 264,
   "id": "bfe3a221-acd9-47ec-b927-9d7a0ed522a1",
   "metadata": {},
   "outputs": [
    {
     "data": {
      "text/plain": [
       "[5, 6, 0, 8, 9, 10, 11, 12, 13, 14]"
      ]
     },
     "execution_count": 264,
     "metadata": {},
     "output_type": "execute_result"
    }
   ],
   "source": [
    "x[2] = 0\n",
    "x"
   ]
  },
  {
   "cell_type": "code",
   "execution_count": 265,
   "id": "79bdb0e4-d69b-410a-b4ef-7a82d53423b9",
   "metadata": {},
   "outputs": [
    {
     "data": {
      "text/plain": [
       "[5, 6, 0, 8, 9, 10, 11, 12, 13, 14]"
      ]
     },
     "execution_count": 265,
     "metadata": {},
     "output_type": "execute_result"
    }
   ],
   "source": [
    "y = x[2]\n",
    "y = -5\n",
    "x"
   ]
  },
  {
   "cell_type": "code",
   "execution_count": 266,
   "id": "c0462c34-4ede-4da5-bc82-61633f14b97f",
   "metadata": {},
   "outputs": [
    {
     "data": {
      "text/plain": [
       "[5, 6, -5, 8, 9, 10, 11, 12, 13, 14]"
      ]
     },
     "execution_count": 266,
     "metadata": {},
     "output_type": "execute_result"
    }
   ],
   "source": [
    "y = x\n",
    "y[2] = -5\n",
    "x"
   ]
  },
  {
   "cell_type": "code",
   "execution_count": 267,
   "id": "cce01582-43d0-4096-8289-a4fc120bf2d3",
   "metadata": {},
   "outputs": [
    {
     "data": {
      "text/plain": [
       "[5, 6, -5, 8, 9, 10, 11, 12, 13, 14]"
      ]
     },
     "execution_count": 267,
     "metadata": {},
     "output_type": "execute_result"
    }
   ],
   "source": [
    "y = x[:]\n",
    "y[2] = 33\n",
    "x"
   ]
  },
  {
   "cell_type": "code",
   "execution_count": 268,
   "id": "dd940fb4-b680-481f-ab10-d5ff56e9273c",
   "metadata": {},
   "outputs": [
    {
     "data": {
      "text/plain": [
       "[5, 6, -5, 8, 9, 10, 11, 12, 13, 14, 0]"
      ]
     },
     "execution_count": 268,
     "metadata": {},
     "output_type": "execute_result"
    }
   ],
   "source": [
    "x.append(0)\n",
    "x"
   ]
  },
  {
   "cell_type": "code",
   "execution_count": 269,
   "id": "0aa325a5-af00-4fcd-8331-571b4f1bacc5",
   "metadata": {},
   "outputs": [
    {
     "data": {
      "text/plain": [
       "[5, 6, -5, 8, 9, 10, 11, 12, 13, 14, 0, [1, 2]]"
      ]
     },
     "execution_count": 269,
     "metadata": {},
     "output_type": "execute_result"
    }
   ],
   "source": [
    "x.append([1, 2])\n",
    "x"
   ]
  },
  {
   "cell_type": "code",
   "execution_count": 270,
   "id": "a46e17f2-cdc6-42f7-88dc-d8deb1d57dc5",
   "metadata": {},
   "outputs": [
    {
     "data": {
      "text/plain": [
       "[5, 99, 6, -5, 8, 9, 10, 11, 12, 13, 14, 0, [1, 2]]"
      ]
     },
     "execution_count": 270,
     "metadata": {},
     "output_type": "execute_result"
    }
   ],
   "source": [
    "x.insert(1, 99)\n",
    "x"
   ]
  },
  {
   "cell_type": "code",
   "execution_count": 271,
   "id": "087c3a3f-f664-49d7-8262-7c15d75abef8",
   "metadata": {},
   "outputs": [],
   "source": [
    "#Error, requiere iterable\n",
    "#x.extend(100)\n",
    "#x"
   ]
  },
  {
   "cell_type": "code",
   "execution_count": 272,
   "id": "df77fa77-a2fb-4b18-96bc-e4cadbbc1520",
   "metadata": {},
   "outputs": [
    {
     "data": {
      "text/plain": [
       "[5, 99, 6, -5, 8, 9, 10, 11, 12, 13, 14, 0, [1, 2], 1, 2]"
      ]
     },
     "execution_count": 272,
     "metadata": {},
     "output_type": "execute_result"
    }
   ],
   "source": [
    "x.extend([1, 2])\n",
    "x"
   ]
  },
  {
   "cell_type": "code",
   "execution_count": 273,
   "id": "d71d18dc-6e8b-448c-98a2-696a6c337f49",
   "metadata": {},
   "outputs": [
    {
     "data": {
      "text/plain": [
       "[99, 6, -5, 8, 9, 10, 11, 12, 13, 14, 0, [1, 2], 1, 2]"
      ]
     },
     "execution_count": 273,
     "metadata": {},
     "output_type": "execute_result"
    }
   ],
   "source": [
    "x.remove(5)\n",
    "x"
   ]
  },
  {
   "cell_type": "code",
   "execution_count": 274,
   "id": "d24c8c1f-cdbc-4681-84a2-3b0706d1b139",
   "metadata": {},
   "outputs": [
    {
     "data": {
      "text/plain": [
       "2"
      ]
     },
     "execution_count": 274,
     "metadata": {},
     "output_type": "execute_result"
    }
   ],
   "source": [
    "#Extrae el numero del final\n",
    "x.pop()"
   ]
  },
  {
   "cell_type": "code",
   "execution_count": 275,
   "id": "e6cb5299-bc4c-44ef-ab36-68611dd15356",
   "metadata": {},
   "outputs": [
    {
     "data": {
      "text/plain": [
       "[]"
      ]
     },
     "execution_count": 275,
     "metadata": {},
     "output_type": "execute_result"
    }
   ],
   "source": [
    "x.clear()\n",
    "x"
   ]
  },
  {
   "cell_type": "code",
   "execution_count": 276,
   "id": "c02e9b3c-8ca9-431d-ae82-b102b518740a",
   "metadata": {},
   "outputs": [
    {
     "data": {
      "text/plain": [
       "[-5, 6, 0, 14, 5, 23, 7, -9, 1, -17, 11]"
      ]
     },
     "execution_count": 276,
     "metadata": {},
     "output_type": "execute_result"
    }
   ],
   "source": [
    "data = [-5, 6, 0, 14, 5, 23, 7, -9, 1, -17, 11]\n",
    "data"
   ]
  },
  {
   "cell_type": "code",
   "execution_count": 277,
   "id": "bc1ede77-d583-43cc-b66e-2f4b5e097c8c",
   "metadata": {},
   "outputs": [
    {
     "data": {
      "text/plain": [
       "[-5, -9, -17]"
      ]
     },
     "execution_count": 277,
     "metadata": {},
     "output_type": "execute_result"
    }
   ],
   "source": [
    "neg_data = []\n",
    "\n",
    "for i in data:\n",
    "    if i < 0:\n",
    "        neg_data.append(i)\n",
    "\n",
    "neg_data"
   ]
  },
  {
   "cell_type": "markdown",
   "id": "8962ef49-0126-43c8-bd1b-30f9a4182084",
   "metadata": {},
   "source": [
    "# List Comprehension"
   ]
  },
  {
   "cell_type": "code",
   "execution_count": 279,
   "id": "fb18ef7e-491b-43b1-9305-b42d72a3bf90",
   "metadata": {},
   "outputs": [
    {
     "data": {
      "text/plain": [
       "[-5, 6, 0, 14, 5, 23, 7, -9, 1, -17, 11]"
      ]
     },
     "execution_count": 279,
     "metadata": {},
     "output_type": "execute_result"
    }
   ],
   "source": [
    "[v for v in data]"
   ]
  },
  {
   "cell_type": "code",
   "execution_count": 280,
   "id": "bca098ae-ecc4-4d2e-9e18-8f0c866c3fec",
   "metadata": {},
   "outputs": [
    {
     "data": {
      "text/plain": [
       "[0, 0, 0, 0, 0, 0, 0, 0, 0, 0, 0]"
      ]
     },
     "execution_count": 280,
     "metadata": {},
     "output_type": "execute_result"
    }
   ],
   "source": [
    "[0 for v in data]"
   ]
  },
  {
   "cell_type": "code",
   "execution_count": 281,
   "id": "81065f0a-0bdd-4b01-94cb-9ea4c1157d9e",
   "metadata": {},
   "outputs": [
    {
     "data": {
      "text/plain": [
       "[25, 36, 0, 196, 25, 529, 49, 81, 1, 289, 121]"
      ]
     },
     "execution_count": 281,
     "metadata": {},
     "output_type": "execute_result"
    }
   ],
   "source": [
    "[v**2 for v in data]"
   ]
  },
  {
   "cell_type": "code",
   "execution_count": 282,
   "id": "76096910-243a-4d2f-826c-7f4d6a71fccb",
   "metadata": {},
   "outputs": [
    {
     "data": {
      "text/plain": [
       "[5, 6, 0, 14, 5, 23, 7, 9, 1, 17, 11]"
      ]
     },
     "execution_count": 282,
     "metadata": {},
     "output_type": "execute_result"
    }
   ],
   "source": [
    "[abs(v) for v in data]"
   ]
  },
  {
   "cell_type": "code",
   "execution_count": 283,
   "id": "c0745dba-ccae-4564-85d8-4557e57988e3",
   "metadata": {},
   "outputs": [
    {
     "data": {
      "text/plain": [
       "[5, 6, 0, 14, 5, 23, 7, 9, 1, 17, 11]"
      ]
     },
     "execution_count": 283,
     "metadata": {},
     "output_type": "execute_result"
    }
   ],
   "source": [
    "[v if v >= 0 else -v for v in data]"
   ]
  },
  {
   "cell_type": "code",
   "execution_count": 284,
   "id": "6ae705bb-700d-4605-8522-fb752f58ef6c",
   "metadata": {},
   "outputs": [
    {
     "data": {
      "text/plain": [
       "[0, 6, 0, 14, 5, 23, 7, 0, 1, 0, 11]"
      ]
     },
     "execution_count": 284,
     "metadata": {},
     "output_type": "execute_result"
    }
   ],
   "source": [
    "[v if v >= 0 else 0 for v in data]"
   ]
  },
  {
   "cell_type": "code",
   "execution_count": 285,
   "id": "e2cd02bf-dfb1-4043-9a21-c6ec1e9cc66d",
   "metadata": {},
   "outputs": [
    {
     "data": {
      "text/plain": [
       "[-5, -9, -17]"
      ]
     },
     "execution_count": 285,
     "metadata": {},
     "output_type": "execute_result"
    }
   ],
   "source": [
    "[v for v in data if v < 0]"
   ]
  },
  {
   "cell_type": "code",
   "execution_count": 286,
   "id": "123e86bd-d56c-4e16-8380-7457c114476c",
   "metadata": {},
   "outputs": [],
   "source": [
    "def filter_negs(data):\n",
    "    return [v for v in data if v < 0]"
   ]
  },
  {
   "cell_type": "code",
   "execution_count": 287,
   "id": "dd4c150c-d43f-46c9-8a65-32ed09bd3131",
   "metadata": {},
   "outputs": [
    {
     "data": {
      "text/plain": [
       "[-5, -9, -17]"
      ]
     },
     "execution_count": 287,
     "metadata": {},
     "output_type": "execute_result"
    }
   ],
   "source": [
    "filter_negs(data)"
   ]
  },
  {
   "cell_type": "code",
   "execution_count": 288,
   "id": "bcd581a4-0af8-49a0-9a89-cb6d77119eff",
   "metadata": {},
   "outputs": [
    {
     "data": {
      "text/plain": [
       "[-5, -9, -17]"
      ]
     },
     "execution_count": 288,
     "metadata": {},
     "output_type": "execute_result"
    }
   ],
   "source": [
    "alias = filter_negs\n",
    "alias(data)"
   ]
  },
  {
   "cell_type": "code",
   "execution_count": 289,
   "id": "c889e47f-54fb-4f04-8123-3b6fb38211eb",
   "metadata": {},
   "outputs": [],
   "source": [
    "#colección con tupla\n",
    "def fx(*args):\n",
    "    print(len(args))\n",
    "    for e in args:\n",
    "        print(e)"
   ]
  },
  {
   "cell_type": "code",
   "execution_count": 290,
   "id": "ceb03815-73d1-4c39-8c1c-989cceb9bf1b",
   "metadata": {},
   "outputs": [
    {
     "name": "stdout",
     "output_type": "stream",
     "text": [
      "3\n",
      "Hola\n",
      "mundo\n",
      "python\n"
     ]
    }
   ],
   "source": [
    "fx(\"Hola\", \"mundo\", \"python\")"
   ]
  },
  {
   "cell_type": "code",
   "execution_count": 291,
   "id": "3cfccb98-08e4-45a7-9ab3-6ef0238f6baa",
   "metadata": {},
   "outputs": [
    {
     "name": "stdout",
     "output_type": "stream",
     "text": [
      "5\n",
      "Hola\n",
      "mundo\n",
      "python\n",
      "True\n",
      "2.68\n"
     ]
    }
   ],
   "source": [
    "fx(\"Hola\", \"mundo\", \"python\", True, 2.68)"
   ]
  },
  {
   "cell_type": "code",
   "execution_count": 292,
   "id": "97e89ad8-2e95-4740-9fa7-cee54889c8d5",
   "metadata": {},
   "outputs": [],
   "source": [
    "#Colección con diccionarios\n",
    "def fx(**kwargs):\n",
    "    print(type(kwargs))\n",
    "    print(len(kwargs))\n",
    "    for e in kwargs.keys():\n",
    "        print(f\"{e} = {kwargs[e]}\")"
   ]
  },
  {
   "cell_type": "code",
   "execution_count": 293,
   "id": "3a94a2a6-e6e5-4f97-aa09-ce337df4e562",
   "metadata": {},
   "outputs": [
    {
     "name": "stdout",
     "output_type": "stream",
     "text": [
      "<class 'dict'>\n",
      "3\n",
      "uno = Hola\n",
      "dos = True\n",
      "tres = [1, 2]\n"
     ]
    }
   ],
   "source": [
    "fx(uno = \"Hola\", dos = True, tres = [1,2])"
   ]
  },
  {
   "cell_type": "code",
   "execution_count": 294,
   "id": "4d9a3777-e29e-4ff4-9146-607a87a00afd",
   "metadata": {},
   "outputs": [],
   "source": [
    "def maxmin(*list):\n",
    "    x = y = list[0]\n",
    "    for e in list:\n",
    "        if e < x:\n",
    "            x = e\n",
    "        if e > y:\n",
    "            y = e\n",
    "    print(f\"({x},{y})\")"
   ]
  },
  {
   "cell_type": "code",
   "execution_count": 295,
   "id": "f25bc990-9bb8-4c9a-9aad-0dac8387404a",
   "metadata": {},
   "outputs": [
    {
     "name": "stdout",
     "output_type": "stream",
     "text": [
      "(-6,58)\n"
     ]
    }
   ],
   "source": [
    "maxmin(4, 58, -6)"
   ]
  },
  {
   "cell_type": "code",
   "execution_count": 296,
   "id": "1919ab80-ef86-4b73-952f-5f737c71f729",
   "metadata": {},
   "outputs": [
    {
     "name": "stdout",
     "output_type": "stream",
     "text": [
      "(2,67)\n"
     ]
    }
   ],
   "source": [
    "maxmin(4, 58, 67, 25, 36, 2)"
   ]
  },
  {
   "cell_type": "code",
   "execution_count": 297,
   "id": "720fe6e5-3dea-4990-9db6-ad4a84602193",
   "metadata": {},
   "outputs": [],
   "source": [
    "def maxmin(*list):\n",
    "    x = y = list[0]\n",
    "    for e in list:\n",
    "        if e < x:\n",
    "            x = e\n",
    "        if e > y:\n",
    "            y = e\n",
    "    return(x, y)"
   ]
  },
  {
   "cell_type": "code",
   "execution_count": 298,
   "id": "46a22b59-d36f-4be6-8f87-ef66279889d1",
   "metadata": {},
   "outputs": [],
   "source": [
    "def max(a, b):\n",
    "    return a if a >= b else b"
   ]
  },
  {
   "cell_type": "code",
   "execution_count": 299,
   "id": "d7c7158a-bbed-49b2-8798-9f1bef9cb84c",
   "metadata": {},
   "outputs": [],
   "source": [
    "max = lambda a, b: a if a >= b else b"
   ]
  },
  {
   "cell_type": "code",
   "execution_count": 300,
   "id": "bcefad76-257e-4f95-8efb-122199782721",
   "metadata": {},
   "outputs": [
    {
     "data": {
      "text/plain": [
       "53"
      ]
     },
     "execution_count": 300,
     "metadata": {},
     "output_type": "execute_result"
    }
   ],
   "source": [
    "max (53,22)"
   ]
  },
  {
   "cell_type": "code",
   "execution_count": 301,
   "id": "44566653-a364-44d8-9ab6-05b76615831d",
   "metadata": {},
   "outputs": [],
   "source": [
    "def apply_op(a, b, op):\n",
    "    return op(a, b)"
   ]
  },
  {
   "cell_type": "code",
   "execution_count": 302,
   "id": "5930e12a-d147-4071-b73d-b5fc9c7549d6",
   "metadata": {},
   "outputs": [
    {
     "data": {
      "text/plain": [
       "15"
      ]
     },
     "execution_count": 302,
     "metadata": {},
     "output_type": "execute_result"
    }
   ],
   "source": [
    "apply_op(5, 10, lambda a,b: a+b)"
   ]
  },
  {
   "cell_type": "code",
   "execution_count": 303,
   "id": "654128e7-784d-4e7c-afb9-fd3008202f58",
   "metadata": {},
   "outputs": [
    {
     "data": {
      "text/plain": [
       "9765625"
      ]
     },
     "execution_count": 303,
     "metadata": {},
     "output_type": "execute_result"
    }
   ],
   "source": [
    "apply_op(5, 10, lambda a,b: a**b)"
   ]
  },
  {
   "cell_type": "code",
   "execution_count": 304,
   "id": "b1835fc9-56df-4ec2-8e73-869b95aae72e",
   "metadata": {},
   "outputs": [
    {
     "data": {
      "text/plain": [
       "[-5, 6, 0, 14, 5, 23, 7, -9, 1, -17, 11]"
      ]
     },
     "execution_count": 304,
     "metadata": {},
     "output_type": "execute_result"
    }
   ],
   "source": [
    "data\n"
   ]
  },
  {
   "cell_type": "code",
   "execution_count": 305,
   "id": "d33a83a9-9414-420e-873f-78e6f96789b8",
   "metadata": {},
   "outputs": [
    {
     "data": {
      "text/plain": [
       "[0, 1, -5, 5, 6, 7, -9, 11, 14, -17, 23]"
      ]
     },
     "execution_count": 305,
     "metadata": {},
     "output_type": "execute_result"
    }
   ],
   "source": [
    "data.sort(key = lambda e: abs(e))\n",
    "data"
   ]
  },
  {
   "cell_type": "code",
   "execution_count": 306,
   "id": "015e60b4-b229-4ad0-af22-0a4c8bdbaa3f",
   "metadata": {},
   "outputs": [
    {
     "data": {
      "text/plain": [
       "[0, 1, 5, 6, 7, 11, 14, 23, -5, -9, -17]"
      ]
     },
     "execution_count": 306,
     "metadata": {},
     "output_type": "execute_result"
    }
   ],
   "source": [
    "data.sort(key = lambda e: e**2 if e < 0 else e)\n",
    "data"
   ]
  },
  {
   "cell_type": "code",
   "execution_count": 307,
   "id": "053d8592-aa04-4783-a950-b0c5bb10f489",
   "metadata": {},
   "outputs": [
    {
     "data": {
      "text/plain": [
       "9"
      ]
     },
     "execution_count": 307,
     "metadata": {},
     "output_type": "execute_result"
    }
   ],
   "source": [
    "data = [1, 2, 3, 5, 6, 8, 9]\n",
    "data[-1]"
   ]
  },
  {
   "cell_type": "code",
   "execution_count": 308,
   "id": "69a66689-3923-426c-a9e9-ecd78cd9e2cd",
   "metadata": {},
   "outputs": [
    {
     "data": {
      "text/plain": [
       "[5, 6, 8]"
      ]
     },
     "execution_count": 308,
     "metadata": {},
     "output_type": "execute_result"
    }
   ],
   "source": [
    "data[-4:-1]"
   ]
  },
  {
   "cell_type": "code",
   "execution_count": 309,
   "id": "40effcde-e07b-4610-bb80-88a3a0b85d81",
   "metadata": {},
   "outputs": [
    {
     "data": {
      "text/plain": [
       "[3, 6]"
      ]
     },
     "execution_count": 309,
     "metadata": {},
     "output_type": "execute_result"
    }
   ],
   "source": [
    "data[-5:-1:2]"
   ]
  },
  {
   "cell_type": "code",
   "execution_count": 310,
   "id": "d84b1f60-917f-4bb6-8f4e-610bfbd61d9e",
   "metadata": {},
   "outputs": [
    {
     "data": {
      "text/plain": [
       "[9, 8, 6, 5]"
      ]
     },
     "execution_count": 310,
     "metadata": {},
     "output_type": "execute_result"
    }
   ],
   "source": [
    "data[-1:-5:-1]"
   ]
  },
  {
   "cell_type": "code",
   "execution_count": null,
   "id": "947dc5dd-89b0-4f4f-a3ba-b06cbc4b66e8",
   "metadata": {},
   "outputs": [],
   "source": []
  }
 ],
 "metadata": {
  "kernelspec": {
   "display_name": "Python 3 (ipykernel)",
   "language": "python",
   "name": "python3"
  },
  "language_info": {
   "codemirror_mode": {
    "name": "ipython",
    "version": 3
   },
   "file_extension": ".py",
   "mimetype": "text/x-python",
   "name": "python",
   "nbconvert_exporter": "python",
   "pygments_lexer": "ipython3",
   "version": "3.12.4"
  }
 },
 "nbformat": 4,
 "nbformat_minor": 5
}
